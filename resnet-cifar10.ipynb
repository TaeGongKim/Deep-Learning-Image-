{
 "cells": [
  {
   "cell_type": "markdown",
   "id": "anonymous-cabin",
   "metadata": {
    "_cell_guid": "b1076dfc-b9ad-4769-8c92-a6c4dae69d19",
    "_uuid": "8f2839f25d086af736a60e9eeb907d3b93b6e0e5",
    "papermill": {
     "duration": 0.022585,
     "end_time": "2021-04-28T13:32:04.079109",
     "exception": false,
     "start_time": "2021-04-28T13:32:04.056524",
     "status": "completed"
    },
    "tags": []
   },
   "source": [
    "# 0. ResNet"
   ]
  },
  {
   "cell_type": "markdown",
   "id": "intellectual-kruger",
   "metadata": {
    "papermill": {
     "duration": 0.021297,
     "end_time": "2021-04-28T13:32:04.121606",
     "exception": false,
     "start_time": "2021-04-28T13:32:04.100309",
     "status": "completed"
    },
    "tags": []
   },
   "source": [
    "## Reference\n",
    "- https://github.com/ndb796/Deep-Learning-Paper-Review-and-Practice/blob/master/code_practices/ResNet18_CIFAR10_Train.ipynb"
   ]
  },
  {
   "cell_type": "markdown",
   "id": "intensive-novelty",
   "metadata": {
    "papermill": {
     "duration": 0.021242,
     "end_time": "2021-04-28T13:32:04.164565",
     "exception": false,
     "start_time": "2021-04-28T13:32:04.143323",
     "status": "completed"
    },
    "tags": []
   },
   "source": [
    "# 1. Library Import"
   ]
  },
  {
   "cell_type": "code",
   "execution_count": 1,
   "id": "macro-column",
   "metadata": {
    "execution": {
     "iopub.execute_input": "2021-04-28T13:32:04.215154Z",
     "iopub.status.busy": "2021-04-28T13:32:04.213119Z",
     "iopub.status.idle": "2021-04-28T13:32:05.788712Z",
     "shell.execute_reply": "2021-04-28T13:32:05.787985Z"
    },
    "papermill": {
     "duration": 1.602841,
     "end_time": "2021-04-28T13:32:05.788901",
     "exception": false,
     "start_time": "2021-04-28T13:32:04.186060",
     "status": "completed"
    },
    "tags": []
   },
   "outputs": [],
   "source": [
    "import torch\n",
    "import torch.nn as nn\n",
    "import torch.nn.functional as F\n",
    "import torch.backends.cudnn as cudnn\n",
    "import torch.optim as optim\n",
    "import os\n",
    "\n",
    "import torchvision\n",
    "import torchvision.transforms as transforms"
   ]
  },
  {
   "cell_type": "markdown",
   "id": "tropical-check",
   "metadata": {
    "papermill": {
     "duration": 0.031636,
     "end_time": "2021-04-28T13:32:05.843007",
     "exception": false,
     "start_time": "2021-04-28T13:32:05.811371",
     "status": "completed"
    },
    "tags": []
   },
   "source": [
    "# 2. Model"
   ]
  },
  {
   "cell_type": "markdown",
   "id": "manufactured-chosen",
   "metadata": {
    "papermill": {
     "duration": 0.04228,
     "end_time": "2021-04-28T13:32:05.922594",
     "exception": false,
     "start_time": "2021-04-28T13:32:05.880314",
     "status": "completed"
    },
    "tags": []
   },
   "source": [
    "## 2.1 BasicBlock"
   ]
  },
  {
   "cell_type": "code",
   "execution_count": 2,
   "id": "introductory-ground",
   "metadata": {
    "execution": {
     "iopub.execute_input": "2021-04-28T13:32:06.013804Z",
     "iopub.status.busy": "2021-04-28T13:32:06.012851Z",
     "iopub.status.idle": "2021-04-28T13:32:06.022740Z",
     "shell.execute_reply": "2021-04-28T13:32:06.024062Z"
    },
    "papermill": {
     "duration": 0.063803,
     "end_time": "2021-04-28T13:32:06.024340",
     "exception": false,
     "start_time": "2021-04-28T13:32:05.960537",
     "status": "completed"
    },
    "tags": []
   },
   "outputs": [],
   "source": [
    "class BasicBlock(nn.Module):\n",
    "    def __init__(self, in_planes, planes, stride = 1):\n",
    "        super(BasicBlock, self).__init__()\n",
    "        \n",
    "        # 3 by 3 filter 사용\n",
    "        # bias ????\n",
    "        self.conv1 = nn.Conv2d(in_planes, planes, \n",
    "                               kernel_size = 3, stride = stride, \n",
    "                               padding = 1, bias = False)\n",
    "        self.bn1 = nn.BatchNorm2d(planes)\n",
    "        \n",
    "        self.conv2 = nn.Conv2d(planes, planes, \n",
    "                               kernel_size = 3, stride = 1, \n",
    "                               padding = 1, bias = False)\n",
    "        self.bn2 = nn.BatchNorm2d(planes)\n",
    "        \n",
    "        self.shortcut = nn.Sequential()\n",
    "        if stride != 1:\n",
    "            self.shortcut = nn.Sequential(nn.Conv2d(in_planes, planes,\n",
    "                                                    kernel_size = 1, stride = stride,\n",
    "                                                    bias = False),\n",
    "                                          nn.BatchNorm2d(planes)\n",
    "                                         )\n",
    "            \n",
    "    def forward(self, x):\n",
    "        out = F.relu(self.bn1(self.conv1(x)))\n",
    "        out = self.bn2(self.conv2(out))\n",
    "        out += self.shortcut(x)\n",
    "        out = F.relu(out)\n",
    "        return out"
   ]
  },
  {
   "cell_type": "markdown",
   "id": "particular-police",
   "metadata": {
    "papermill": {
     "duration": 0.047007,
     "end_time": "2021-04-28T13:32:06.128502",
     "exception": false,
     "start_time": "2021-04-28T13:32:06.081495",
     "status": "completed"
    },
    "tags": []
   },
   "source": [
    "# 2.2 ResNet"
   ]
  },
  {
   "cell_type": "code",
   "execution_count": 3,
   "id": "revolutionary-vacation",
   "metadata": {
    "execution": {
     "iopub.execute_input": "2021-04-28T13:32:06.225649Z",
     "iopub.status.busy": "2021-04-28T13:32:06.224556Z",
     "iopub.status.idle": "2021-04-28T13:32:06.235476Z",
     "shell.execute_reply": "2021-04-28T13:32:06.236744Z"
    },
    "papermill": {
     "duration": 0.06466,
     "end_time": "2021-04-28T13:32:06.237005",
     "exception": false,
     "start_time": "2021-04-28T13:32:06.172345",
     "status": "completed"
    },
    "tags": []
   },
   "outputs": [],
   "source": [
    "class ResNet(nn.Module):\n",
    "    def __init__(self, block, num_blocks, num_classes = 10):\n",
    "        super(ResNet, self).__init__()\n",
    "        self.in_planes = 64\n",
    "        \n",
    "        self.conv1 = nn.Conv2d(3, 64, kernel_size = 3, stride = 1, \n",
    "                               padding = 1, bias = False)\n",
    "        self.bn1 = nn.BatchNorm2d(64)\n",
    "        self.layer1 = self._make_layer(block, 64, num_blocks[0], stride = 1)\n",
    "        self.layer2 = self._make_layer(block, 128, num_blocks[1], stride = 2)\n",
    "        self.layer3 = self._make_layer(block, 256, num_blocks[2], stride = 2)\n",
    "        self.layer4 = self._make_layer(block, 512, num_blocks[3], stride = 2)\n",
    "        self.linear = nn.Linear(512, num_classes)\n",
    "        \n",
    "    def _make_layer(self, block, planes, num_blocks, stride):\n",
    "        strides = [stride] + [1] * (num_blocks - 1)\n",
    "        layers = []\n",
    "        for stride in strides:\n",
    "            layers.append(block(self.in_planes, planes, stride))\n",
    "            self.in_planes = planes\n",
    "        return nn.Sequential(*layers)\n",
    "    \n",
    "    def forward(self, x):\n",
    "        out = F.relu(self.bn1(self.conv1(x)))\n",
    "        out = self.layer1(out)\n",
    "        out = self.layer2(out)\n",
    "        out = self.layer3(out)\n",
    "        out = self.layer4(out)\n",
    "        out = F.avg_pool2d(out, 4)\n",
    "        out = out.view(out.size(0), -1)\n",
    "        out = self.linear(out)\n",
    "        return out"
   ]
  },
  {
   "cell_type": "markdown",
   "id": "stupid-entrepreneur",
   "metadata": {
    "papermill": {
     "duration": 0.036776,
     "end_time": "2021-04-28T13:32:06.311793",
     "exception": false,
     "start_time": "2021-04-28T13:32:06.275017",
     "status": "completed"
    },
    "tags": []
   },
   "source": [
    "## 2.3 ResNet18"
   ]
  },
  {
   "cell_type": "code",
   "execution_count": 4,
   "id": "affecting-nitrogen",
   "metadata": {
    "execution": {
     "iopub.execute_input": "2021-04-28T13:32:06.397748Z",
     "iopub.status.busy": "2021-04-28T13:32:06.396614Z",
     "iopub.status.idle": "2021-04-28T13:32:06.399575Z",
     "shell.execute_reply": "2021-04-28T13:32:06.398705Z"
    },
    "papermill": {
     "duration": 0.050139,
     "end_time": "2021-04-28T13:32:06.399792",
     "exception": false,
     "start_time": "2021-04-28T13:32:06.349653",
     "status": "completed"
    },
    "tags": []
   },
   "outputs": [],
   "source": [
    "def ResNet18():\n",
    "    return ResNet(BasicBlock, [2, 2, 2, 2])"
   ]
  },
  {
   "cell_type": "markdown",
   "id": "cardiovascular-appointment",
   "metadata": {
    "papermill": {
     "duration": 0.041442,
     "end_time": "2021-04-28T13:32:06.479605",
     "exception": false,
     "start_time": "2021-04-28T13:32:06.438163",
     "status": "completed"
    },
    "tags": []
   },
   "source": [
    "# 3. Data Loader"
   ]
  },
  {
   "cell_type": "markdown",
   "id": "taken-macro",
   "metadata": {
    "papermill": {
     "duration": 0.042505,
     "end_time": "2021-04-28T13:32:06.569298",
     "exception": false,
     "start_time": "2021-04-28T13:32:06.526793",
     "status": "completed"
    },
    "tags": []
   },
   "source": [
    "## 3.1 CIFAR Data download and load"
   ]
  },
  {
   "cell_type": "code",
   "execution_count": 5,
   "id": "multiple-intellectual",
   "metadata": {
    "execution": {
     "iopub.execute_input": "2021-04-28T13:32:06.646691Z",
     "iopub.status.busy": "2021-04-28T13:32:06.645752Z",
     "iopub.status.idle": "2021-04-28T13:32:32.961009Z",
     "shell.execute_reply": "2021-04-28T13:32:32.959934Z"
    },
    "papermill": {
     "duration": 26.357559,
     "end_time": "2021-04-28T13:32:32.961316",
     "exception": false,
     "start_time": "2021-04-28T13:32:06.603757",
     "status": "completed"
    },
    "tags": []
   },
   "outputs": [
    {
     "name": "stdout",
     "output_type": "stream",
     "text": [
      "Downloading https://www.cs.toronto.edu/~kriz/cifar-10-python.tar.gz to ./data/cifar-10-python.tar.gz\n"
     ]
    },
    {
     "data": {
      "application/vnd.jupyter.widget-view+json": {
       "model_id": "295ed1ab1f1f4edc9a54d4493116d7e7",
       "version_major": 2,
       "version_minor": 0
      },
      "text/plain": [
       "0it [00:00, ?it/s]"
      ]
     },
     "metadata": {},
     "output_type": "display_data"
    },
    {
     "name": "stdout",
     "output_type": "stream",
     "text": [
      "Extracting ./data/cifar-10-python.tar.gz to ./data\n",
      "Files already downloaded and verified\n"
     ]
    }
   ],
   "source": [
    "transform_train = transforms.Compose([transforms.RandomCrop(32, padding = 4),\n",
    "                                      transforms.RandomHorizontalFlip(),\n",
    "                                      transforms.ToTensor()]\n",
    "                                    )\n",
    "transform_test = transforms.Compose([transforms.ToTensor()])\n",
    "\n",
    "train_dataset = torchvision.datasets.CIFAR10(root = './data', train = True,\n",
    "                                             download = True, transform = transform_train)\n",
    "test_dataset = torchvision.datasets.CIFAR10(root = './data', train = False,\n",
    "                                             download = True, transform = transform_test)\n",
    "\n",
    "train_loader = torch.utils.data.DataLoader(train_dataset, batch_size = 128, \n",
    "                                           shuffle = True, num_workers = 4)\n",
    "test_loader = torch.utils.data.DataLoader(test_dataset, batch_size = 100, \n",
    "                                           shuffle = False, num_workers = 4)"
   ]
  },
  {
   "cell_type": "markdown",
   "id": "indoor-assurance",
   "metadata": {
    "papermill": {
     "duration": 0.02461,
     "end_time": "2021-04-28T13:32:33.013188",
     "exception": false,
     "start_time": "2021-04-28T13:32:32.988578",
     "status": "completed"
    },
    "tags": []
   },
   "source": [
    "# 4. Train and Test Function Define"
   ]
  },
  {
   "cell_type": "markdown",
   "id": "according-wagner",
   "metadata": {
    "papermill": {
     "duration": 0.024608,
     "end_time": "2021-04-28T13:32:33.062980",
     "exception": false,
     "start_time": "2021-04-28T13:32:33.038372",
     "status": "completed"
    },
    "tags": []
   },
   "source": [
    "## 4.1 환경 설정"
   ]
  },
  {
   "cell_type": "code",
   "execution_count": 6,
   "id": "australian-glass",
   "metadata": {
    "execution": {
     "iopub.execute_input": "2021-04-28T13:32:33.654946Z",
     "iopub.status.busy": "2021-04-28T13:32:33.654061Z",
     "iopub.status.idle": "2021-04-28T13:32:38.792732Z",
     "shell.execute_reply": "2021-04-28T13:32:38.793560Z"
    },
    "papermill": {
     "duration": 5.706833,
     "end_time": "2021-04-28T13:32:38.793751",
     "exception": false,
     "start_time": "2021-04-28T13:32:33.086918",
     "status": "completed"
    },
    "tags": []
   },
   "outputs": [],
   "source": [
    "device = 'cuda' if torch.cuda.is_available() else 'cpu'\n",
    "\n",
    "net = ResNet18()\n",
    "net = net.to(device)\n",
    "net = torch.nn.DataParallel(net)\n",
    "cudnn.benchmark = True"
   ]
  },
  {
   "cell_type": "code",
   "execution_count": 7,
   "id": "lasting-berkeley",
   "metadata": {
    "execution": {
     "iopub.execute_input": "2021-04-28T13:32:38.871122Z",
     "iopub.status.busy": "2021-04-28T13:32:38.870016Z",
     "iopub.status.idle": "2021-04-28T13:32:38.875508Z",
     "shell.execute_reply": "2021-04-28T13:32:38.874703Z"
    },
    "papermill": {
     "duration": 0.057176,
     "end_time": "2021-04-28T13:32:38.875801",
     "exception": false,
     "start_time": "2021-04-28T13:32:38.818625",
     "status": "completed"
    },
    "tags": []
   },
   "outputs": [],
   "source": [
    "learning_rate = 0.1\n",
    "file_name = 'resnet18_cifar10.pt'"
   ]
  },
  {
   "cell_type": "markdown",
   "id": "broad-promotion",
   "metadata": {
    "papermill": {
     "duration": 0.047261,
     "end_time": "2021-04-28T13:32:38.974461",
     "exception": false,
     "start_time": "2021-04-28T13:32:38.927200",
     "status": "completed"
    },
    "tags": []
   },
   "source": [
    "## 4.2 Loss Function"
   ]
  },
  {
   "cell_type": "code",
   "execution_count": 8,
   "id": "polyphonic-haven",
   "metadata": {
    "execution": {
     "iopub.execute_input": "2021-04-28T13:32:39.067324Z",
     "iopub.status.busy": "2021-04-28T13:32:39.066411Z",
     "iopub.status.idle": "2021-04-28T13:32:39.071785Z",
     "shell.execute_reply": "2021-04-28T13:32:39.073102Z"
    },
    "papermill": {
     "duration": 0.057356,
     "end_time": "2021-04-28T13:32:39.073353",
     "exception": false,
     "start_time": "2021-04-28T13:32:39.015997",
     "status": "completed"
    },
    "tags": []
   },
   "outputs": [],
   "source": [
    "criterion = nn.CrossEntropyLoss()\n",
    "optimizer = optim.SGD(net.parameters(), lr = learning_rate,\n",
    "                      momentum = 0.9, weight_decay = 0.0002)"
   ]
  },
  {
   "cell_type": "markdown",
   "id": "civic-maria",
   "metadata": {
    "papermill": {
     "duration": 0.040883,
     "end_time": "2021-04-28T13:32:39.155556",
     "exception": false,
     "start_time": "2021-04-28T13:32:39.114673",
     "status": "completed"
    },
    "tags": []
   },
   "source": [
    "## 4.3 Train"
   ]
  },
  {
   "cell_type": "code",
   "execution_count": 9,
   "id": "inappropriate-melissa",
   "metadata": {
    "execution": {
     "iopub.execute_input": "2021-04-28T13:32:39.253113Z",
     "iopub.status.busy": "2021-04-28T13:32:39.252005Z",
     "iopub.status.idle": "2021-04-28T13:32:39.258764Z",
     "shell.execute_reply": "2021-04-28T13:32:39.260046Z"
    },
    "papermill": {
     "duration": 0.064186,
     "end_time": "2021-04-28T13:32:39.260289",
     "exception": false,
     "start_time": "2021-04-28T13:32:39.196103",
     "status": "completed"
    },
    "tags": []
   },
   "outputs": [],
   "source": [
    "def train(epoch):\n",
    "    print('\\n[ Train epoch: %d ]' % epoch)\n",
    "    net.train()\n",
    "    train_loss = 0\n",
    "    correct = 0\n",
    "    total = 0\n",
    "    for batch_idx, (inputs, targets) in enumerate(train_loader):\n",
    "        inputs, targets = inputs.to(device), targets.to(device)\n",
    "        optimizer.zero_grad()\n",
    "\n",
    "        benign_outputs = net(inputs)\n",
    "        loss = criterion(benign_outputs, targets)\n",
    "        loss.backward()\n",
    "\n",
    "        optimizer.step()\n",
    "        train_loss += loss.item()\n",
    "        _, predicted = benign_outputs.max(1)\n",
    "\n",
    "        total += targets.size(0)\n",
    "        correct += predicted.eq(targets).sum().item()\n",
    "        \n",
    "        if batch_idx % 100 == 0:\n",
    "            print('\\nCurrent batch:', str(batch_idx))\n",
    "            print('Current benign train accuracy:', str(predicted.eq(targets).sum().item() / targets.size(0)))\n",
    "            print('Current benign train loss:', loss.item())\n",
    "\n",
    "    print('\\nTotal benign train accuarcy:', 100. * correct / total)\n",
    "    print('Total benign train loss:', train_loss)"
   ]
  },
  {
   "cell_type": "markdown",
   "id": "senior-darkness",
   "metadata": {
    "papermill": {
     "duration": 0.040451,
     "end_time": "2021-04-28T13:32:39.345501",
     "exception": false,
     "start_time": "2021-04-28T13:32:39.305050",
     "status": "completed"
    },
    "tags": []
   },
   "source": [
    "## 4.4 Test"
   ]
  },
  {
   "cell_type": "code",
   "execution_count": 10,
   "id": "false-toolbox",
   "metadata": {
    "execution": {
     "iopub.execute_input": "2021-04-28T13:32:39.442930Z",
     "iopub.status.busy": "2021-04-28T13:32:39.441843Z",
     "iopub.status.idle": "2021-04-28T13:32:39.448522Z",
     "shell.execute_reply": "2021-04-28T13:32:39.449965Z"
    },
    "papermill": {
     "duration": 0.06165,
     "end_time": "2021-04-28T13:32:39.450195",
     "exception": false,
     "start_time": "2021-04-28T13:32:39.388545",
     "status": "completed"
    },
    "tags": []
   },
   "outputs": [],
   "source": [
    "def test(epoch):\n",
    "    print('\\n[ Test epoch: %d ]' % epoch)\n",
    "    net.eval()\n",
    "    loss = 0\n",
    "    correct = 0\n",
    "    total = 0\n",
    "\n",
    "    for batch_idx, (inputs, targets) in enumerate(test_loader):\n",
    "        inputs, targets = inputs.to(device), targets.to(device)\n",
    "        total += targets.size(0)\n",
    "\n",
    "        outputs = net(inputs)\n",
    "        loss += criterion(outputs, targets).item()\n",
    "\n",
    "        _, predicted = outputs.max(1)\n",
    "        correct += predicted.eq(targets).sum().item()\n",
    "\n",
    "    print('\\nTest accuarcy:', 100. * correct / total)\n",
    "    print('Test average loss:', loss / total)\n",
    "\n",
    "    state = {\n",
    "        'net': net.state_dict()\n",
    "    }\n",
    "    if not os.path.isdir('checkpoint'):\n",
    "        os.mkdir('checkpoint')\n",
    "    torch.save(state, './checkpoint/' + file_name)\n",
    "    print('Model Saved!')"
   ]
  },
  {
   "cell_type": "markdown",
   "id": "executed-shaft",
   "metadata": {
    "papermill": {
     "duration": 0.027776,
     "end_time": "2021-04-28T13:32:39.520863",
     "exception": false,
     "start_time": "2021-04-28T13:32:39.493087",
     "status": "completed"
    },
    "tags": []
   },
   "source": [
    "## 4.5 Adjust learning rate"
   ]
  },
  {
   "cell_type": "code",
   "execution_count": 11,
   "id": "occasional-champagne",
   "metadata": {
    "execution": {
     "iopub.execute_input": "2021-04-28T13:32:39.575084Z",
     "iopub.status.busy": "2021-04-28T13:32:39.573867Z",
     "iopub.status.idle": "2021-04-28T13:32:39.577446Z",
     "shell.execute_reply": "2021-04-28T13:32:39.576829Z"
    },
    "papermill": {
     "duration": 0.032865,
     "end_time": "2021-04-28T13:32:39.577609",
     "exception": false,
     "start_time": "2021-04-28T13:32:39.544744",
     "status": "completed"
    },
    "tags": []
   },
   "outputs": [],
   "source": [
    "def adjust_learning_rate(optimizer, epoch):\n",
    "    lr = learning_rate\n",
    "    if epoch >= 100:\n",
    "        lr /= 10\n",
    "    if epoch >= 150:\n",
    "        lr /= 10\n",
    "    for param_group in optimizer.param_groups:\n",
    "        param_group['lr'] = lr"
   ]
  },
  {
   "cell_type": "markdown",
   "id": "supposed-checklist",
   "metadata": {
    "papermill": {
     "duration": 0.023848,
     "end_time": "2021-04-28T13:32:39.625110",
     "exception": false,
     "start_time": "2021-04-28T13:32:39.601262",
     "status": "completed"
    },
    "tags": []
   },
   "source": [
    "# 5. Training"
   ]
  },
  {
   "cell_type": "code",
   "execution_count": 12,
   "id": "aerial-wonder",
   "metadata": {
    "execution": {
     "iopub.execute_input": "2021-04-28T13:32:39.682071Z",
     "iopub.status.busy": "2021-04-28T13:32:39.681286Z",
     "iopub.status.idle": "2021-04-28T13:43:00.800863Z",
     "shell.execute_reply": "2021-04-28T13:43:00.800242Z"
    },
    "papermill": {
     "duration": 621.152028,
     "end_time": "2021-04-28T13:43:00.801017",
     "exception": false,
     "start_time": "2021-04-28T13:32:39.648989",
     "status": "completed"
    },
    "tags": []
   },
   "outputs": [
    {
     "name": "stdout",
     "output_type": "stream",
     "text": [
      "\n",
      "[ Train epoch: 0 ]\n",
      "\n",
      "Current batch: 0\n",
      "Current benign train accuracy: 0.0625\n",
      "Current benign train loss: 2.460787296295166\n",
      "\n",
      "Current batch: 100\n",
      "Current benign train accuracy: 0.1796875\n",
      "Current benign train loss: 2.174678087234497\n",
      "\n",
      "Current batch: 200\n",
      "Current benign train accuracy: 0.2890625\n",
      "Current benign train loss: 2.001413345336914\n",
      "\n",
      "Current batch: 300\n",
      "Current benign train accuracy: 0.3671875\n",
      "Current benign train loss: 1.7642830610275269\n",
      "\n",
      "Total benign train accuarcy: 25.558\n",
      "Total benign train loss: 844.3069297075272\n",
      "\n",
      "[ Test epoch: 0 ]\n",
      "\n",
      "Test accuarcy: 31.95\n",
      "Test average loss: 0.01829986822605133\n",
      "Model Saved!\n",
      "\n",
      "[ Train epoch: 1 ]\n",
      "\n",
      "Current batch: 0\n",
      "Current benign train accuracy: 0.4453125\n",
      "Current benign train loss: 1.6196115016937256\n",
      "\n",
      "Current batch: 100\n",
      "Current benign train accuracy: 0.3671875\n",
      "Current benign train loss: 1.7019579410552979\n",
      "\n",
      "Current batch: 200\n",
      "Current benign train accuracy: 0.359375\n",
      "Current benign train loss: 1.6736046075820923\n",
      "\n",
      "Current batch: 300\n",
      "Current benign train accuracy: 0.4453125\n",
      "Current benign train loss: 1.486495852470398\n",
      "\n",
      "Total benign train accuarcy: 41.006\n",
      "Total benign train loss: 626.721103310585\n",
      "\n",
      "[ Test epoch: 1 ]\n",
      "\n",
      "Test accuarcy: 44.04\n",
      "Test average loss: 0.015347624671459198\n",
      "Model Saved!\n",
      "\n",
      "[ Train epoch: 2 ]\n",
      "\n",
      "Current batch: 0\n",
      "Current benign train accuracy: 0.4296875\n",
      "Current benign train loss: 1.475642204284668\n",
      "\n",
      "Current batch: 100\n",
      "Current benign train accuracy: 0.46875\n",
      "Current benign train loss: 1.3666995763778687\n",
      "\n",
      "Current batch: 200\n",
      "Current benign train accuracy: 0.484375\n",
      "Current benign train loss: 1.3985214233398438\n",
      "\n",
      "Current batch: 300\n",
      "Current benign train accuracy: 0.53125\n",
      "Current benign train loss: 1.232888102531433\n",
      "\n",
      "Total benign train accuarcy: 49.928\n",
      "Total benign train loss: 535.864130616188\n",
      "\n",
      "[ Test epoch: 2 ]\n",
      "\n",
      "Test accuarcy: 37.99\n",
      "Test average loss: 0.01926088088750839\n",
      "Model Saved!\n",
      "\n",
      "[ Train epoch: 3 ]\n",
      "\n",
      "Current batch: 0\n",
      "Current benign train accuracy: 0.53125\n",
      "Current benign train loss: 1.2776854038238525\n",
      "\n",
      "Current batch: 100\n",
      "Current benign train accuracy: 0.5859375\n",
      "Current benign train loss: 1.1920442581176758\n",
      "\n",
      "Current batch: 200\n",
      "Current benign train accuracy: 0.5703125\n",
      "Current benign train loss: 1.107208251953125\n",
      "\n",
      "Current batch: 300\n",
      "Current benign train accuracy: 0.625\n",
      "Current benign train loss: 0.9362219572067261\n",
      "\n",
      "Total benign train accuarcy: 57.972\n",
      "Total benign train loss: 455.66033655405045\n",
      "\n",
      "[ Test epoch: 3 ]\n",
      "\n",
      "Test accuarcy: 53.0\n",
      "Test average loss: 0.013964884066581727\n",
      "Model Saved!\n",
      "\n",
      "[ Train epoch: 4 ]\n",
      "\n",
      "Current batch: 0\n",
      "Current benign train accuracy: 0.609375\n",
      "Current benign train loss: 1.0784484148025513\n",
      "\n",
      "Current batch: 100\n",
      "Current benign train accuracy: 0.65625\n",
      "Current benign train loss: 0.9714398980140686\n",
      "\n",
      "Current batch: 200\n",
      "Current benign train accuracy: 0.6640625\n",
      "Current benign train loss: 1.0325101613998413\n",
      "\n",
      "Current batch: 300\n",
      "Current benign train accuracy: 0.6953125\n",
      "Current benign train loss: 0.9265611171722412\n",
      "\n",
      "Total benign train accuarcy: 64.686\n",
      "Total benign train loss: 387.38792300224304\n",
      "\n",
      "[ Test epoch: 4 ]\n",
      "\n",
      "Test accuarcy: 56.36\n",
      "Test average loss: 0.012978898131847381\n",
      "Model Saved!\n",
      "\n",
      "[ Train epoch: 5 ]\n",
      "\n",
      "Current batch: 0\n",
      "Current benign train accuracy: 0.6875\n",
      "Current benign train loss: 0.8276895880699158\n",
      "\n",
      "Current batch: 100\n",
      "Current benign train accuracy: 0.7265625\n",
      "Current benign train loss: 0.857771635055542\n",
      "\n",
      "Current batch: 200\n",
      "Current benign train accuracy: 0.7109375\n",
      "Current benign train loss: 0.8713899850845337\n",
      "\n",
      "Current batch: 300\n",
      "Current benign train accuracy: 0.65625\n",
      "Current benign train loss: 0.9240670204162598\n",
      "\n",
      "Total benign train accuarcy: 69.872\n",
      "Total benign train loss: 334.7396730184555\n",
      "\n",
      "[ Test epoch: 5 ]\n",
      "\n",
      "Test accuarcy: 67.82\n",
      "Test average loss: 0.009506455945968629\n",
      "Model Saved!\n",
      "\n",
      "[ Train epoch: 6 ]\n",
      "\n",
      "Current batch: 0\n",
      "Current benign train accuracy: 0.7578125\n",
      "Current benign train loss: 0.7024281024932861\n",
      "\n",
      "Current batch: 100\n",
      "Current benign train accuracy: 0.7421875\n",
      "Current benign train loss: 0.754593551158905\n",
      "\n",
      "Current batch: 200\n",
      "Current benign train accuracy: 0.7578125\n",
      "Current benign train loss: 0.6813230514526367\n",
      "\n",
      "Current batch: 300\n",
      "Current benign train accuracy: 0.7734375\n",
      "Current benign train loss: 0.5810322761535645\n",
      "\n",
      "Total benign train accuarcy: 74.164\n",
      "Total benign train loss: 288.62765139341354\n",
      "\n",
      "[ Test epoch: 6 ]\n",
      "\n",
      "Test accuarcy: 68.2\n",
      "Test average loss: 0.009404461401700974\n",
      "Model Saved!\n",
      "\n",
      "[ Train epoch: 7 ]\n",
      "\n",
      "Current batch: 0\n",
      "Current benign train accuracy: 0.78125\n",
      "Current benign train loss: 0.6958327889442444\n",
      "\n",
      "Current batch: 100\n",
      "Current benign train accuracy: 0.8125\n",
      "Current benign train loss: 0.5009552240371704\n",
      "\n",
      "Current batch: 200\n",
      "Current benign train accuracy: 0.7890625\n",
      "Current benign train loss: 0.6836047768592834\n",
      "\n",
      "Current batch: 300\n",
      "Current benign train accuracy: 0.828125\n",
      "Current benign train loss: 0.5256150364875793\n",
      "\n",
      "Total benign train accuarcy: 77.46\n",
      "Total benign train loss: 253.1695785522461\n",
      "\n",
      "[ Test epoch: 7 ]\n",
      "\n",
      "Test accuarcy: 67.97\n",
      "Test average loss: 0.009326076012849807\n",
      "Model Saved!\n",
      "\n",
      "[ Train epoch: 8 ]\n",
      "\n",
      "Current batch: 0\n",
      "Current benign train accuracy: 0.7734375\n",
      "Current benign train loss: 0.5964078307151794\n",
      "\n",
      "Current batch: 100\n",
      "Current benign train accuracy: 0.796875\n",
      "Current benign train loss: 0.6109057664871216\n",
      "\n",
      "Current batch: 200\n",
      "Current benign train accuracy: 0.8203125\n",
      "Current benign train loss: 0.530812680721283\n",
      "\n",
      "Current batch: 300\n",
      "Current benign train accuracy: 0.7734375\n",
      "Current benign train loss: 0.6415786743164062\n",
      "\n",
      "Total benign train accuarcy: 79.936\n",
      "Total benign train loss: 226.51861581206322\n",
      "\n",
      "[ Test epoch: 8 ]\n",
      "\n",
      "Test accuarcy: 64.51\n",
      "Test average loss: 0.012238306379318237\n",
      "Model Saved!\n",
      "\n",
      "[ Train epoch: 9 ]\n",
      "\n",
      "Current batch: 0\n",
      "Current benign train accuracy: 0.8359375\n",
      "Current benign train loss: 0.5251861214637756\n",
      "\n",
      "Current batch: 100\n",
      "Current benign train accuracy: 0.7890625\n",
      "Current benign train loss: 0.5974827408790588\n",
      "\n",
      "Current batch: 200\n",
      "Current benign train accuracy: 0.859375\n",
      "Current benign train loss: 0.42093539237976074\n",
      "\n",
      "Current batch: 300\n",
      "Current benign train accuracy: 0.8828125\n",
      "Current benign train loss: 0.4889109432697296\n",
      "\n",
      "Total benign train accuarcy: 81.74\n",
      "Total benign train loss: 205.86704343557358\n",
      "\n",
      "[ Test epoch: 9 ]\n",
      "\n",
      "Test accuarcy: 79.53\n",
      "Test average loss: 0.006030073094367981\n",
      "Model Saved!\n",
      "\n",
      "[ Train epoch: 10 ]\n",
      "\n",
      "Current batch: 0\n",
      "Current benign train accuracy: 0.8203125\n",
      "Current benign train loss: 0.5251421928405762\n",
      "\n",
      "Current batch: 100\n",
      "Current benign train accuracy: 0.8515625\n",
      "Current benign train loss: 0.4701178967952728\n",
      "\n",
      "Current batch: 200\n",
      "Current benign train accuracy: 0.8359375\n",
      "Current benign train loss: 0.4596838653087616\n",
      "\n",
      "Current batch: 300\n",
      "Current benign train accuracy: 0.8046875\n",
      "Current benign train loss: 0.5911128520965576\n",
      "\n",
      "Total benign train accuarcy: 82.964\n",
      "Total benign train loss: 191.21787557005882\n",
      "\n",
      "[ Test epoch: 10 ]\n",
      "\n",
      "Test accuarcy: 79.85\n",
      "Test average loss: 0.005784446582198143\n",
      "Model Saved!\n",
      "\n",
      "[ Train epoch: 11 ]\n",
      "\n",
      "Current batch: 0\n",
      "Current benign train accuracy: 0.84375\n",
      "Current benign train loss: 0.43730422854423523\n",
      "\n",
      "Current batch: 100\n",
      "Current benign train accuracy: 0.8359375\n",
      "Current benign train loss: 0.4384543299674988\n",
      "\n",
      "Current batch: 200\n",
      "Current benign train accuracy: 0.8125\n",
      "Current benign train loss: 0.5325732827186584\n",
      "\n",
      "Current batch: 300\n",
      "Current benign train accuracy: 0.8203125\n",
      "Current benign train loss: 0.4100867807865143\n",
      "\n",
      "Total benign train accuarcy: 84.058\n",
      "Total benign train loss: 178.50887846946716\n",
      "\n",
      "[ Test epoch: 11 ]\n",
      "\n",
      "Test accuarcy: 76.65\n",
      "Test average loss: 0.006998312586545944\n",
      "Model Saved!\n",
      "\n",
      "[ Train epoch: 12 ]\n",
      "\n",
      "Current batch: 0\n",
      "Current benign train accuracy: 0.859375\n",
      "Current benign train loss: 0.44994378089904785\n",
      "\n",
      "Current batch: 100\n",
      "Current benign train accuracy: 0.859375\n",
      "Current benign train loss: 0.49981433153152466\n",
      "\n",
      "Current batch: 200\n",
      "Current benign train accuracy: 0.8984375\n",
      "Current benign train loss: 0.2925121784210205\n",
      "\n",
      "Current batch: 300\n",
      "Current benign train accuracy: 0.9140625\n",
      "Current benign train loss: 0.3300389051437378\n",
      "\n",
      "Total benign train accuarcy: 85.072\n",
      "Total benign train loss: 168.15403340756893\n",
      "\n",
      "[ Test epoch: 12 ]\n",
      "\n",
      "Test accuarcy: 83.93\n",
      "Test average loss: 0.004751493427157402\n",
      "Model Saved!\n",
      "\n",
      "[ Train epoch: 13 ]\n",
      "\n",
      "Current batch: 0\n",
      "Current benign train accuracy: 0.828125\n",
      "Current benign train loss: 0.45937836170196533\n",
      "\n",
      "Current batch: 100\n",
      "Current benign train accuracy: 0.90625\n",
      "Current benign train loss: 0.29160502552986145\n",
      "\n",
      "Current batch: 200\n",
      "Current benign train accuracy: 0.8828125\n",
      "Current benign train loss: 0.394518107175827\n",
      "\n",
      "Current batch: 300\n",
      "Current benign train accuracy: 0.859375\n",
      "Current benign train loss: 0.5110824704170227\n",
      "\n",
      "Total benign train accuarcy: 85.964\n",
      "Total benign train loss: 158.01707892119884\n",
      "\n",
      "[ Test epoch: 13 ]\n",
      "\n",
      "Test accuarcy: 79.45\n",
      "Test average loss: 0.0062132572829723355\n",
      "Model Saved!\n",
      "\n",
      "[ Train epoch: 14 ]\n",
      "\n",
      "Current batch: 0\n",
      "Current benign train accuracy: 0.8515625\n",
      "Current benign train loss: 0.445915549993515\n",
      "\n",
      "Current batch: 100\n",
      "Current benign train accuracy: 0.8671875\n",
      "Current benign train loss: 0.4185570478439331\n",
      "\n",
      "Current batch: 200\n",
      "Current benign train accuracy: 0.8984375\n",
      "Current benign train loss: 0.28560203313827515\n",
      "\n",
      "Current batch: 300\n",
      "Current benign train accuracy: 0.8515625\n",
      "Current benign train loss: 0.37623387575149536\n",
      "\n",
      "Total benign train accuarcy: 86.506\n",
      "Total benign train loss: 151.30069975554943\n",
      "\n",
      "[ Test epoch: 14 ]\n",
      "\n",
      "Test accuarcy: 81.55\n",
      "Test average loss: 0.0054227080672979355\n",
      "Model Saved!\n",
      "\n",
      "[ Train epoch: 15 ]\n",
      "\n",
      "Current batch: 0\n",
      "Current benign train accuracy: 0.875\n",
      "Current benign train loss: 0.35322824120521545\n",
      "\n",
      "Current batch: 100\n",
      "Current benign train accuracy: 0.875\n",
      "Current benign train loss: 0.40088868141174316\n",
      "\n",
      "Current batch: 200\n",
      "Current benign train accuracy: 0.859375\n",
      "Current benign train loss: 0.4040827751159668\n",
      "\n",
      "Current batch: 300\n",
      "Current benign train accuracy: 0.8984375\n",
      "Current benign train loss: 0.36662954092025757\n",
      "\n",
      "Total benign train accuarcy: 87.47\n",
      "Total benign train loss: 142.5075449794531\n",
      "\n",
      "[ Test epoch: 15 ]\n",
      "\n",
      "Test accuarcy: 82.3\n",
      "Test average loss: 0.005287656837701798\n",
      "Model Saved!\n",
      "\n",
      "[ Train epoch: 16 ]\n",
      "\n",
      "Current batch: 0\n",
      "Current benign train accuracy: 0.875\n",
      "Current benign train loss: 0.37407419085502625\n",
      "\n",
      "Current batch: 100\n",
      "Current benign train accuracy: 0.8359375\n",
      "Current benign train loss: 0.39153245091438293\n",
      "\n",
      "Current batch: 200\n",
      "Current benign train accuracy: 0.8828125\n",
      "Current benign train loss: 0.32576119899749756\n",
      "\n",
      "Current batch: 300\n",
      "Current benign train accuracy: 0.796875\n",
      "Current benign train loss: 0.46868830919265747\n",
      "\n",
      "Total benign train accuarcy: 88.062\n",
      "Total benign train loss: 135.87449015676975\n",
      "\n",
      "[ Test epoch: 16 ]\n",
      "\n",
      "Test accuarcy: 81.6\n",
      "Test average loss: 0.005455622231960297\n",
      "Model Saved!\n",
      "\n",
      "[ Train epoch: 17 ]\n",
      "\n",
      "Current batch: 0\n",
      "Current benign train accuracy: 0.859375\n",
      "Current benign train loss: 0.3260372281074524\n",
      "\n",
      "Current batch: 100\n",
      "Current benign train accuracy: 0.90625\n",
      "Current benign train loss: 0.29139387607574463\n",
      "\n",
      "Current batch: 200\n",
      "Current benign train accuracy: 0.90625\n",
      "Current benign train loss: 0.27319782972335815\n",
      "\n",
      "Current batch: 300\n",
      "Current benign train accuracy: 0.8828125\n",
      "Current benign train loss: 0.3532864451408386\n",
      "\n",
      "Total benign train accuarcy: 88.206\n",
      "Total benign train loss: 131.80586543679237\n",
      "\n",
      "[ Test epoch: 17 ]\n",
      "\n",
      "Test accuarcy: 83.95\n",
      "Test average loss: 0.004735632818937302\n",
      "Model Saved!\n",
      "\n",
      "[ Train epoch: 18 ]\n",
      "\n",
      "Current batch: 0\n",
      "Current benign train accuracy: 0.8515625\n",
      "Current benign train loss: 0.3310104012489319\n",
      "\n",
      "Current batch: 100\n",
      "Current benign train accuracy: 0.90625\n",
      "Current benign train loss: 0.3484455943107605\n",
      "\n",
      "Current batch: 200\n",
      "Current benign train accuracy: 0.8515625\n",
      "Current benign train loss: 0.4702931046485901\n",
      "\n",
      "Current batch: 300\n",
      "Current benign train accuracy: 0.859375\n",
      "Current benign train loss: 0.40648114681243896\n",
      "\n",
      "Total benign train accuarcy: 88.512\n",
      "Total benign train loss: 128.64988377690315\n",
      "\n",
      "[ Test epoch: 18 ]\n",
      "\n",
      "Test accuarcy: 84.96\n",
      "Test average loss: 0.004462634874880314\n",
      "Model Saved!\n",
      "\n",
      "[ Train epoch: 19 ]\n",
      "\n",
      "Current batch: 0\n",
      "Current benign train accuracy: 0.8671875\n",
      "Current benign train loss: 0.37404945492744446\n",
      "\n",
      "Current batch: 100\n",
      "Current benign train accuracy: 0.9140625\n",
      "Current benign train loss: 0.2741665542125702\n",
      "\n",
      "Current batch: 200\n",
      "Current benign train accuracy: 0.9140625\n",
      "Current benign train loss: 0.23209527134895325\n",
      "\n",
      "Current batch: 300\n",
      "Current benign train accuracy: 0.90625\n",
      "Current benign train loss: 0.30360326170921326\n",
      "\n",
      "Total benign train accuarcy: 88.85\n",
      "Total benign train loss: 124.52712835371494\n",
      "\n",
      "[ Test epoch: 19 ]\n",
      "\n",
      "Test accuarcy: 83.08\n",
      "Test average loss: 0.00516932373046875\n",
      "Model Saved!\n"
     ]
    }
   ],
   "source": [
    "for epoch in range(0, 20):\n",
    "    adjust_learning_rate(optimizer, epoch)\n",
    "    train(epoch)\n",
    "    test(epoch)"
   ]
  },
  {
   "cell_type": "code",
   "execution_count": null,
   "id": "alpha-vertex",
   "metadata": {
    "papermill": {
     "duration": 0.064072,
     "end_time": "2021-04-28T13:43:00.931156",
     "exception": false,
     "start_time": "2021-04-28T13:43:00.867084",
     "status": "completed"
    },
    "tags": []
   },
   "outputs": [],
   "source": []
  },
  {
   "cell_type": "code",
   "execution_count": null,
   "id": "opening-dodge",
   "metadata": {
    "papermill": {
     "duration": 0.063509,
     "end_time": "2021-04-28T13:43:01.058080",
     "exception": false,
     "start_time": "2021-04-28T13:43:00.994571",
     "status": "completed"
    },
    "tags": []
   },
   "outputs": [],
   "source": []
  },
  {
   "cell_type": "code",
   "execution_count": null,
   "id": "later-bread",
   "metadata": {
    "papermill": {
     "duration": 0.064598,
     "end_time": "2021-04-28T13:43:01.188180",
     "exception": false,
     "start_time": "2021-04-28T13:43:01.123582",
     "status": "completed"
    },
    "tags": []
   },
   "outputs": [],
   "source": []
  },
  {
   "cell_type": "code",
   "execution_count": null,
   "id": "confident-transsexual",
   "metadata": {
    "papermill": {
     "duration": 0.064597,
     "end_time": "2021-04-28T13:43:01.318954",
     "exception": false,
     "start_time": "2021-04-28T13:43:01.254357",
     "status": "completed"
    },
    "tags": []
   },
   "outputs": [],
   "source": []
  },
  {
   "cell_type": "code",
   "execution_count": null,
   "id": "uniform-comfort",
   "metadata": {
    "papermill": {
     "duration": 0.064959,
     "end_time": "2021-04-28T13:43:01.450284",
     "exception": false,
     "start_time": "2021-04-28T13:43:01.385325",
     "status": "completed"
    },
    "tags": []
   },
   "outputs": [],
   "source": []
  }
 ],
 "metadata": {
  "kernelspec": {
   "display_name": "Python 3",
   "language": "python",
   "name": "python3"
  },
  "language_info": {
   "codemirror_mode": {
    "name": "ipython",
    "version": 3
   },
   "file_extension": ".py",
   "mimetype": "text/x-python",
   "name": "python",
   "nbconvert_exporter": "python",
   "pygments_lexer": "ipython3",
   "version": "3.7.10"
  },
  "papermill": {
   "default_parameters": {},
   "duration": 667.361402,
   "end_time": "2021-04-28T13:43:03.261048",
   "environment_variables": {},
   "exception": null,
   "input_path": "__notebook__.ipynb",
   "output_path": "__notebook__.ipynb",
   "parameters": {},
   "start_time": "2021-04-28T13:31:55.899646",
   "version": "2.3.3"
  },
  "widgets": {
   "application/vnd.jupyter.widget-state+json": {
    "state": {
     "0412356856ef4691af0787c77c85232b": {
      "model_module": "@jupyter-widgets/controls",
      "model_module_version": "1.5.0",
      "model_name": "DescriptionStyleModel",
      "state": {
       "_model_module": "@jupyter-widgets/controls",
       "_model_module_version": "1.5.0",
       "_model_name": "DescriptionStyleModel",
       "_view_count": null,
       "_view_module": "@jupyter-widgets/base",
       "_view_module_version": "1.2.0",
       "_view_name": "StyleView",
       "description_width": ""
      }
     },
     "0594d9acc2c64647afe7eb55f8d64b8d": {
      "model_module": "@jupyter-widgets/base",
      "model_module_version": "1.2.0",
      "model_name": "LayoutModel",
      "state": {
       "_model_module": "@jupyter-widgets/base",
       "_model_module_version": "1.2.0",
       "_model_name": "LayoutModel",
       "_view_count": null,
       "_view_module": "@jupyter-widgets/base",
       "_view_module_version": "1.2.0",
       "_view_name": "LayoutView",
       "align_content": null,
       "align_items": null,
       "align_self": null,
       "border": null,
       "bottom": null,
       "display": null,
       "flex": null,
       "flex_flow": null,
       "grid_area": null,
       "grid_auto_columns": null,
       "grid_auto_flow": null,
       "grid_auto_rows": null,
       "grid_column": null,
       "grid_gap": null,
       "grid_row": null,
       "grid_template_areas": null,
       "grid_template_columns": null,
       "grid_template_rows": null,
       "height": null,
       "justify_content": null,
       "justify_items": null,
       "left": null,
       "margin": null,
       "max_height": null,
       "max_width": null,
       "min_height": null,
       "min_width": null,
       "object_fit": null,
       "object_position": null,
       "order": null,
       "overflow": null,
       "overflow_x": null,
       "overflow_y": null,
       "padding": null,
       "right": null,
       "top": null,
       "visibility": null,
       "width": null
      }
     },
     "1865307fdf76492fbaa32817eb5033fb": {
      "model_module": "@jupyter-widgets/controls",
      "model_module_version": "1.5.0",
      "model_name": "HTMLModel",
      "state": {
       "_dom_classes": [],
       "_model_module": "@jupyter-widgets/controls",
       "_model_module_version": "1.5.0",
       "_model_name": "HTMLModel",
       "_view_count": null,
       "_view_module": "@jupyter-widgets/controls",
       "_view_module_version": "1.5.0",
       "_view_name": "HTMLView",
       "description": "",
       "description_tooltip": null,
       "layout": "IPY_MODEL_0594d9acc2c64647afe7eb55f8d64b8d",
       "placeholder": "​",
       "style": "IPY_MODEL_ed42ff91e54340a89892451252a0063d",
       "value": ""
      }
     },
     "295ed1ab1f1f4edc9a54d4493116d7e7": {
      "model_module": "@jupyter-widgets/controls",
      "model_module_version": "1.5.0",
      "model_name": "HBoxModel",
      "state": {
       "_dom_classes": [],
       "_model_module": "@jupyter-widgets/controls",
       "_model_module_version": "1.5.0",
       "_model_name": "HBoxModel",
       "_view_count": null,
       "_view_module": "@jupyter-widgets/controls",
       "_view_module_version": "1.5.0",
       "_view_name": "HBoxView",
       "box_style": "",
       "children": [
        "IPY_MODEL_1865307fdf76492fbaa32817eb5033fb",
        "IPY_MODEL_dfec33c217dc4137a2a397bb9370cb1c",
        "IPY_MODEL_cef7263f6d894ba0bcca71c81b26a36b"
       ],
       "layout": "IPY_MODEL_8ccc560cf5564dd5a3ad2acd6a883a76"
      }
     },
     "5366dd11f5374ac8a5c02b38ba5fd61d": {
      "model_module": "@jupyter-widgets/controls",
      "model_module_version": "1.5.0",
      "model_name": "ProgressStyleModel",
      "state": {
       "_model_module": "@jupyter-widgets/controls",
       "_model_module_version": "1.5.0",
       "_model_name": "ProgressStyleModel",
       "_view_count": null,
       "_view_module": "@jupyter-widgets/base",
       "_view_module_version": "1.2.0",
       "_view_name": "StyleView",
       "bar_color": null,
       "description_width": ""
      }
     },
     "8ccc560cf5564dd5a3ad2acd6a883a76": {
      "model_module": "@jupyter-widgets/base",
      "model_module_version": "1.2.0",
      "model_name": "LayoutModel",
      "state": {
       "_model_module": "@jupyter-widgets/base",
       "_model_module_version": "1.2.0",
       "_model_name": "LayoutModel",
       "_view_count": null,
       "_view_module": "@jupyter-widgets/base",
       "_view_module_version": "1.2.0",
       "_view_name": "LayoutView",
       "align_content": null,
       "align_items": null,
       "align_self": null,
       "border": null,
       "bottom": null,
       "display": null,
       "flex": null,
       "flex_flow": null,
       "grid_area": null,
       "grid_auto_columns": null,
       "grid_auto_flow": null,
       "grid_auto_rows": null,
       "grid_column": null,
       "grid_gap": null,
       "grid_row": null,
       "grid_template_areas": null,
       "grid_template_columns": null,
       "grid_template_rows": null,
       "height": null,
       "justify_content": null,
       "justify_items": null,
       "left": null,
       "margin": null,
       "max_height": null,
       "max_width": null,
       "min_height": null,
       "min_width": null,
       "object_fit": null,
       "object_position": null,
       "order": null,
       "overflow": null,
       "overflow_x": null,
       "overflow_y": null,
       "padding": null,
       "right": null,
       "top": null,
       "visibility": null,
       "width": null
      }
     },
     "a131c9f6ac864d2db3d79f867d7312ce": {
      "model_module": "@jupyter-widgets/base",
      "model_module_version": "1.2.0",
      "model_name": "LayoutModel",
      "state": {
       "_model_module": "@jupyter-widgets/base",
       "_model_module_version": "1.2.0",
       "_model_name": "LayoutModel",
       "_view_count": null,
       "_view_module": "@jupyter-widgets/base",
       "_view_module_version": "1.2.0",
       "_view_name": "LayoutView",
       "align_content": null,
       "align_items": null,
       "align_self": null,
       "border": null,
       "bottom": null,
       "display": null,
       "flex": null,
       "flex_flow": null,
       "grid_area": null,
       "grid_auto_columns": null,
       "grid_auto_flow": null,
       "grid_auto_rows": null,
       "grid_column": null,
       "grid_gap": null,
       "grid_row": null,
       "grid_template_areas": null,
       "grid_template_columns": null,
       "grid_template_rows": null,
       "height": null,
       "justify_content": null,
       "justify_items": null,
       "left": null,
       "margin": null,
       "max_height": null,
       "max_width": null,
       "min_height": null,
       "min_width": null,
       "object_fit": null,
       "object_position": null,
       "order": null,
       "overflow": null,
       "overflow_x": null,
       "overflow_y": null,
       "padding": null,
       "right": null,
       "top": null,
       "visibility": null,
       "width": "20px"
      }
     },
     "cef7263f6d894ba0bcca71c81b26a36b": {
      "model_module": "@jupyter-widgets/controls",
      "model_module_version": "1.5.0",
      "model_name": "HTMLModel",
      "state": {
       "_dom_classes": [],
       "_model_module": "@jupyter-widgets/controls",
       "_model_module_version": "1.5.0",
       "_model_name": "HTMLModel",
       "_view_count": null,
       "_view_module": "@jupyter-widgets/controls",
       "_view_module_version": "1.5.0",
       "_view_name": "HTMLView",
       "description": "",
       "description_tooltip": null,
       "layout": "IPY_MODEL_eadc5c8b5f3343309611da666849e2ae",
       "placeholder": "​",
       "style": "IPY_MODEL_0412356856ef4691af0787c77c85232b",
       "value": " 170500096/? [00:40&lt;00:00, 34357800.49it/s]"
      }
     },
     "dfec33c217dc4137a2a397bb9370cb1c": {
      "model_module": "@jupyter-widgets/controls",
      "model_module_version": "1.5.0",
      "model_name": "FloatProgressModel",
      "state": {
       "_dom_classes": [],
       "_model_module": "@jupyter-widgets/controls",
       "_model_module_version": "1.5.0",
       "_model_name": "FloatProgressModel",
       "_view_count": null,
       "_view_module": "@jupyter-widgets/controls",
       "_view_module_version": "1.5.0",
       "_view_name": "ProgressView",
       "bar_style": "info",
       "description": "",
       "description_tooltip": null,
       "layout": "IPY_MODEL_a131c9f6ac864d2db3d79f867d7312ce",
       "max": 1.0,
       "min": 0.0,
       "orientation": "horizontal",
       "style": "IPY_MODEL_5366dd11f5374ac8a5c02b38ba5fd61d",
       "value": 1.0
      }
     },
     "eadc5c8b5f3343309611da666849e2ae": {
      "model_module": "@jupyter-widgets/base",
      "model_module_version": "1.2.0",
      "model_name": "LayoutModel",
      "state": {
       "_model_module": "@jupyter-widgets/base",
       "_model_module_version": "1.2.0",
       "_model_name": "LayoutModel",
       "_view_count": null,
       "_view_module": "@jupyter-widgets/base",
       "_view_module_version": "1.2.0",
       "_view_name": "LayoutView",
       "align_content": null,
       "align_items": null,
       "align_self": null,
       "border": null,
       "bottom": null,
       "display": null,
       "flex": null,
       "flex_flow": null,
       "grid_area": null,
       "grid_auto_columns": null,
       "grid_auto_flow": null,
       "grid_auto_rows": null,
       "grid_column": null,
       "grid_gap": null,
       "grid_row": null,
       "grid_template_areas": null,
       "grid_template_columns": null,
       "grid_template_rows": null,
       "height": null,
       "justify_content": null,
       "justify_items": null,
       "left": null,
       "margin": null,
       "max_height": null,
       "max_width": null,
       "min_height": null,
       "min_width": null,
       "object_fit": null,
       "object_position": null,
       "order": null,
       "overflow": null,
       "overflow_x": null,
       "overflow_y": null,
       "padding": null,
       "right": null,
       "top": null,
       "visibility": null,
       "width": null
      }
     },
     "ed42ff91e54340a89892451252a0063d": {
      "model_module": "@jupyter-widgets/controls",
      "model_module_version": "1.5.0",
      "model_name": "DescriptionStyleModel",
      "state": {
       "_model_module": "@jupyter-widgets/controls",
       "_model_module_version": "1.5.0",
       "_model_name": "DescriptionStyleModel",
       "_view_count": null,
       "_view_module": "@jupyter-widgets/base",
       "_view_module_version": "1.2.0",
       "_view_name": "StyleView",
       "description_width": ""
      }
     }
    },
    "version_major": 2,
    "version_minor": 0
   }
  }
 },
 "nbformat": 4,
 "nbformat_minor": 5
}
